{
 "cells": [
  {
   "cell_type": "code",
   "execution_count": 33,
   "metadata": {},
   "outputs": [],
   "source": [
    "def hw3(issuer = 'Воронежская Обл Прав', path = '', table_name = None, fig_name = None):\n",
    "\n",
    "    # 1) Подключаемся к БД.\n",
    "    import psycopg2 # драйвер для postgresql\n",
    "    import getpass  # прячем параль, чтобы не писать его в параметрах\n",
    "\n",
    "    conn=psycopg2.connect(user='postgres',\n",
    "                          database='HW',\n",
    "                          host='localhost',\n",
    "                          port='5432',\n",
    "                          password=getpass.getpass('Insert password: ')\n",
    "                            )\n",
    "    query = \"\"\" SELECT *\n",
    "            FROM (SELECT MAX(\"CPN\") AS \"CPN\", \"ISIN\", max(\"BUYBACKDATE\") AS \"BUYBACKDATE\",\n",
    "                  max(\"BUYBACKPRICE\") AS \"BUYBACKPRICE\"\n",
    "                  FROM public.quotes_task\n",
    "                  GROUP BY \"ISIN\") AS cpn\n",
    "            INNER JOIN(SELECT \"ISINCode\", \"FaceValue\", \"HaveOffer\", \"AmortisedMty\", \n",
    "                       \"CouponPerYear\", \"NumCoupons\", \"EndMtyDate\", \"CouponType\", \"IssuerName\"\n",
    "                       FROM public.bond_description_task\n",
    "                       WHERE \"Status\"!='Погашен') AS bonds\n",
    "            ON cpn.\"ISIN\" = bonds.\"ISINCode\" \"\"\"\n",
    "          \n",
    "\n",
    "    # 3) Возвращаем матрицу платежей.\n",
    "    import pandas as pd\n",
    "\n",
    "    data = pd.read_sql_query(query, conn)\n",
    "    data = pd.DataFrame(data)\n",
    "\n",
    "    data2 = data[data['IssuerName'] == issuer]\n",
    "    data2 = data2[['ISIN','EndMtyDate', 'CouponType', 'CPN', 'AmortisedMty']]\n",
    "    data2 = data2.sort_values(by=\"EndMtyDate\", ascending=True)\n",
    "    \n",
    "    table_name = 'Выплаты_' + issuer if table_name == None else table_name\n",
    "    data2.to_csv(path + table_name + '.csv')\n",
    "    \n",
    "    import matplotlib.pyplot as plt\n",
    "\n",
    "    x_const = data2[data2['CouponType'] == 'Постоянный']['EndMtyDate']\n",
    "    y_const = data2[data2['CouponType'] == 'Постоянный']['CPN']\n",
    "\n",
    "    x_fixed = data2[data2['CouponType'] == 'Фиксированный']['EndMtyDate']\n",
    "    y_fixed = data2[data2['CouponType'] == 'Фиксированный']['CPN']\n",
    "\n",
    "    plt.bar(x_const, y_const, width = 10, label = 'Постоянный купон')\n",
    "    plt.bar(x_fixed, y_fixed, width = 10, label = 'Фиксированный купон')\n",
    "    plt.title('Купонные выплаты по облигациям ' + issuer)\n",
    "    plt.legend()\n",
    "    \n",
    "    fig_name = 'Выплаты_' + issuer if fig_name == None else fig_name\n",
    "    \n",
    "    plt.savefig(path + fig_name + '.png')\n",
    "    \n",
    "    a = {'table': data2, 'path': path, 'figname': fig_name}\n",
    "    \n",
    "    return(a)"
   ]
  },
  {
   "cell_type": "code",
   "execution_count": 34,
   "metadata": {
    "scrolled": true
   },
   "outputs": [
    {
     "name": "stdout",
     "output_type": "stream",
     "text": [
      "Insert password: ········\n"
     ]
    },
    {
     "data": {
      "text/plain": [
       "{'table':            ISIN  EndMtyDate     CouponType    CPN  AmortisedMty\n",
       " 1  RU000A0JTG34  2017-12-17     Постоянный  24.56          True\n",
       " 2  RU000A0JU823  2018-10-23  Фиксированный  20.64          True\n",
       " 3  RU000A0JUWK6  2019-10-14     Постоянный  29.29          True,\n",
       " 'path': '',\n",
       " 'figname': 'Выплаты_Воронежская Обл Прав'}"
      ]
     },
     "execution_count": 34,
     "metadata": {},
     "output_type": "execute_result"
    },
    {
     "data": {
      "image/png": "[encoded data removed]",
      "text/plain": [
       "<Figure size 432x288 with 1 Axes>"
      ]
     },
     "metadata": {
      "needs_background": "light"
     },
     "output_type": "display_data"
    }
   ],
   "source": [
    "issuer = 'Воронежская Обл Прав'\n",
    "s = hw3(issuer)\n",
    "s"
   ]
  },
  {
   "cell_type": "code",
   "execution_count": 38,
   "metadata": {},
   "outputs": [],
   "source": [
    "table = s['table']\n",
    "path = s['path']\n",
    "fig_name = s['figname']"
   ]
  },
  {
   "cell_type": "code",
   "execution_count": 42,
   "metadata": {},
   "outputs": [],
   "source": [
    "# Собираем автоматический отчет в виде pdf\n",
    "\n",
    "from __future__ import print_function\n",
    "from jinja2 import Environment, FileSystemLoader\n",
    "# from weasyprint import HTML, Document\n",
    "import os\n",
    "\n",
    "env = Environment(loader=FileSystemLoader('.'))\n",
    "template = env.get_template(\"myreport.html\") # Шаблон выложен в папке 111seminar на GitHub, его можно редактировать под себя\n",
    "template_vars = {\"title\": \"Отчет по\" + issuer,\n",
    "                \"INTRO\": \"Отчет содержит данные по выплатам облигаций\" + issuer, \n",
    "                 \"TABLE_DESC\": \"Таблица 1. Выплаты \"+issuer,\n",
    "                 \"TABLE\": table.to_html(), \n",
    "                 \"IMAGE_DESC\": \"Рисунок. Визуализация выплат\", \n",
    "                 \"IMAGE\": os.path.realpath(path + fig_name + '.png')\n",
    "                }\n",
    "# os.path.realpath - путь к файлу относительно рабочей папки. Код выше подразумевает, что картинка хранится в рабочей папке.\n",
    "# Собираем и печатаем репорт\n",
    "# html_out = template.render(template_vars, presentational_hints=True)\n",
    "# HTML(string=html_out).write_pdf('my_report.pdf', presentational_hints=True)\n",
    "# Можно добавлять стилевые настройки, но это уже развлечение of the class."
   ]
  }
 ],
 "metadata": {
  "kernelspec": {
   "display_name": "Python 3",
   "language": "python",
   "name": "python3"
  },
  "language_info": {
   "codemirror_mode": {
    "name": "ipython",
    "version": 3
   },
   "file_extension": ".py",
   "mimetype": "text/x-python",
   "name": "python",
   "nbconvert_exporter": "python",
   "pygments_lexer": "ipython3",
   "version": "3.7.3"
  }
 },
 "nbformat": 4,
 "nbformat_minor": 2
}
